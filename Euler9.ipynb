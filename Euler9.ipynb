{
 "cells": [
  {
   "cell_type": "code",
   "execution_count": 12,
   "metadata": {
    "collapsed": false
   },
   "outputs": [],
   "source": [
    "import math\n",
    "\n",
    "def euler9(num):\n",
    "    \n",
    "    ran = num//3\n",
    "    for a in range(ran):\n",
    "        b = a+1\n",
    "        \n",
    "        while True:\n",
    "            \n",
    "            c = math.sqrt(a**2+b**2)\n",
    "            \n",
    "            if a + b + c == num:\n",
    "                print(a, b, c, 'multiplicando dá', a*b*c)\n",
    "                break\n",
    "                \n",
    "            if a + b + c > num:\n",
    "                break\n",
    "                \n",
    "            b +=1"
   ]
  },
  {
   "cell_type": "code",
   "execution_count": 14,
   "metadata": {
    "collapsed": false
   },
   "outputs": [
    {
     "name": "stdout",
     "output_type": "stream",
     "text": [
      "0 500 500.0 multiplicando dá 0.0\n",
      "200 375 425.0 multiplicando dá 31875000.0\n"
     ]
    }
   ],
   "source": [
    "#0 500 500.0 multiplicando dá 0.0\n",
    "#200 375 425.0 multiplicando dá 31875000.0\n",
    "\n",
    "euler9(1000)"
   ]
  }
 ],
 "metadata": {
  "kernelspec": {
   "display_name": "Python 3",
   "language": "python",
   "name": "python3"
  },
  "language_info": {
   "codemirror_mode": {
    "name": "ipython",
    "version": 3
   },
   "file_extension": ".py",
   "mimetype": "text/x-python",
   "name": "python",
   "nbconvert_exporter": "python",
   "pygments_lexer": "ipython3",
   "version": "3.5.1"
  }
 },
 "nbformat": 4,
 "nbformat_minor": 0
}
