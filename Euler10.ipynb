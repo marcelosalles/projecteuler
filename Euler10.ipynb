{
 "cells": [
  {
   "cell_type": "markdown",
   "metadata": {},
   "source": [
    "## Tentativa1"
   ]
  },
  {
   "cell_type": "code",
   "execution_count": 22,
   "metadata": {
    "collapsed": true
   },
   "outputs": [],
   "source": [
    "'''\n",
    "def euler10(num):\n",
    "\n",
    "    soma = 2\n",
    "\n",
    "    for i in range(3, num):\n",
    "        tent = 0\n",
    "        for n in range(2, i):\n",
    "            if i/n != i//n:\n",
    "                tent += 1\n",
    "        if tent == i-2:\n",
    "            soma += i\n",
    "        \n",
    "    print(soma)\n",
    "           \n",
    " '''    "
   ]
  },
  {
   "cell_type": "code",
   "execution_count": 33,
   "metadata": {
    "collapsed": false
   },
   "outputs": [
    {
     "data": {
      "text/plain": [
       "'\\neuler10(2000000)\\n'"
      ]
     },
     "execution_count": 33,
     "metadata": {},
     "output_type": "execute_result"
    }
   ],
   "source": [
    "'''\n",
    "euler10(2000000)\n",
    "'''"
   ]
  },
  {
   "cell_type": "markdown",
   "metadata": {},
   "source": [
    "## Tentativa 2"
   ]
  },
  {
   "cell_type": "code",
   "execution_count": 32,
   "metadata": {
    "collapsed": false
   },
   "outputs": [
    {
     "data": {
      "text/plain": [
       "'\\nnum = 2000000\\nsoma = 0\\n\\nfor n in range(2,num):\\n    for i in range(2,n):\\n        if (n % i) == 0:\\n            break\\n    else:\\n        soma += n\\n\\nsoma\\n'"
      ]
     },
     "execution_count": 32,
     "metadata": {},
     "output_type": "execute_result"
    }
   ],
   "source": [
    "'''\n",
    "num = 2000000\n",
    "soma = 0\n",
    "\n",
    "for n in range(2,num):\n",
    "    for i in range(2,n):\n",
    "        if (n % i) == 0:\n",
    "            break\n",
    "    else:\n",
    "        soma += n\n",
    "\n",
    "soma\n",
    "'''"
   ]
  },
  {
   "cell_type": "markdown",
   "metadata": {},
   "source": [
    "## Tentativa 3"
   ]
  },
  {
   "cell_type": "code",
   "execution_count": 63,
   "metadata": {
    "collapsed": false
   },
   "outputs": [
    {
     "data": {
      "text/plain": [
       "142913828922"
      ]
     },
     "execution_count": 63,
     "metadata": {},
     "output_type": "execute_result"
    }
   ],
   "source": [
    "num = 2000000\n",
    "soma = 2\n",
    "\n",
    "for n in range(3,num, 2):\n",
    "    lim = int(n/2)\n",
    "    for i in range(3, lim, 2):\n",
    "        if (n % i) == 0:\n",
    "            break\n",
    "    else:\n",
    "        soma += n\n",
    "\n",
    "soma"
   ]
  }
 ],
 "metadata": {
  "kernelspec": {
   "display_name": "Python 3",
   "language": "python",
   "name": "python3"
  },
  "language_info": {
   "codemirror_mode": {
    "name": "ipython",
    "version": 3
   },
   "file_extension": ".py",
   "mimetype": "text/x-python",
   "name": "python",
   "nbconvert_exporter": "python",
   "pygments_lexer": "ipython3",
   "version": "3.5.1"
  }
 },
 "nbformat": 4,
 "nbformat_minor": 0
}
