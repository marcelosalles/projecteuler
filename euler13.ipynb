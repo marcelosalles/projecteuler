{
 "cells": [
  {
   "cell_type": "code",
   "execution_count": 34,
   "metadata": {
    "collapsed": true
   },
   "outputs": [],
   "source": [
    "import numpy\n",
    "\n",
    "lista = numpy.loadtxt(fname='C:\\\\Users\\\\user\\\\Documents\\\\Programacao\\\\eulerproject\\\\problem13.csv')\n",
    "\n",
    "def euler13(x):\n",
    "    \n",
    "    xcomponto = x+1\n",
    "    soma = 0\n",
    "    \n",
    "    for i in range(100):\n",
    "        \n",
    "        n = lista[i]\n",
    "        \n",
    "        soma += n\n",
    "        \n",
    "    somastr = str(soma)\n",
    "    resposta = somastr[0:xcomponto]\n",
    "    print(resposta)"
   ]
  },
  {
   "cell_type": "code",
   "execution_count": 35,
   "metadata": {
    "collapsed": false
   },
   "outputs": [
    {
     "name": "stdout",
     "output_type": "stream",
     "text": [
      "5.537376230\n"
     ]
    }
   ],
   "source": [
    "euler13(10)"
   ]
  }
 ],
 "metadata": {
  "kernelspec": {
   "display_name": "Python 3",
   "language": "python",
   "name": "python3"
  },
  "language_info": {
   "codemirror_mode": {
    "name": "ipython",
    "version": 3
   },
   "file_extension": ".py",
   "mimetype": "text/x-python",
   "name": "python",
   "nbconvert_exporter": "python",
   "pygments_lexer": "ipython3",
   "version": "3.5.1"
  }
 },
 "nbformat": 4,
 "nbformat_minor": 0
}
