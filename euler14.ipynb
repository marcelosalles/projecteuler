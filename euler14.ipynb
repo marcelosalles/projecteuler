{
 "cells": [
  {
   "cell_type": "code",
   "execution_count": 8,
   "metadata": {
    "collapsed": true
   },
   "outputs": [],
   "source": [
    "\n",
    "def euler14(x):\n",
    "    \n",
    "    nmax=0\n",
    "    resposta = 0\n",
    "    \n",
    "    y = x-1\n",
    "    \n",
    "    for i in range(y):\n",
    "        \n",
    "        n = 1\n",
    "\n",
    "        j = i+2\n",
    "\n",
    "        while j != 1:\n",
    "            \n",
    "            n += 1\n",
    "\n",
    "            if j/2 == j//2:\n",
    "\n",
    "                j /= 2\n",
    "                \n",
    "            else:\n",
    "                \n",
    "                j = 3*j+1\n",
    "                \n",
    "        if n > nmax:\n",
    "            \n",
    "            nmax = n\n",
    "            resposta = i+2\n",
    "            \n",
    "    print(resposta)"
   ]
  },
  {
   "cell_type": "code",
   "execution_count": 9,
   "metadata": {
    "collapsed": false
   },
   "outputs": [
    {
     "name": "stdout",
     "output_type": "stream",
     "text": [
      "837799\n"
     ]
    }
   ],
   "source": [
    "euler14(1000000)"
   ]
  }
 ],
 "metadata": {
  "kernelspec": {
   "display_name": "Python 3",
   "language": "python",
   "name": "python3"
  },
  "language_info": {
   "codemirror_mode": {
    "name": "ipython",
    "version": 3
   },
   "file_extension": ".py",
   "mimetype": "text/x-python",
   "name": "python",
   "nbconvert_exporter": "python",
   "pygments_lexer": "ipython3",
   "version": "3.5.1"
  }
 },
 "nbformat": 4,
 "nbformat_minor": 0
}
