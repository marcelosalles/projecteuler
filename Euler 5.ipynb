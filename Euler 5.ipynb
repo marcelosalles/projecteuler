{
 "cells": [
  {
   "cell_type": "code",
   "execution_count": 20,
   "metadata": {
    "collapsed": false
   },
   "outputs": [],
   "source": [
    "import math\n",
    "\n",
    "def euler5(num):\n",
    "    tentativa = num\n",
    "    valormax = math.factorial(num)\n",
    "    for n in range(valormax):\n",
    "        ok = 0\n",
    "        for n in range(num):\n",
    "            if tentativa/(n+1) == tentativa//(n+1):\n",
    "                ok +=1\n",
    "        if ok == num:\n",
    "            print(tentativa)\n",
    "            break\n",
    "        else:\n",
    "            tentativa += num"
   ]
  },
  {
   "cell_type": "code",
   "execution_count": 26,
   "metadata": {
    "collapsed": false
   },
   "outputs": [
    {
     "name": "stdout",
     "output_type": "stream",
     "text": [
      "2520\n"
     ]
    }
   ],
   "source": [
    "euler5(10)"
   ]
  },
  {
   "cell_type": "code",
   "execution_count": 29,
   "metadata": {
    "collapsed": false
   },
   "outputs": [
    {
     "name": "stdout",
     "output_type": "stream",
     "text": [
      "232792560.0\n",
      "116396280.0\n",
      "77597520.0\n",
      "58198140.0\n",
      "46558512.0\n",
      "38798760.0\n",
      "33256080.0\n",
      "29099070.0\n",
      "25865840.0\n",
      "23279256.0\n",
      "21162960.0\n",
      "19399380.0\n",
      "17907120.0\n",
      "16628040.0\n",
      "15519504.0\n",
      "14549535.0\n",
      "13693680.0\n",
      "12932920.0\n",
      "12252240.0\n",
      "11639628.0\n"
     ]
    }
   ],
   "source": [
    "x = 232792560\n",
    "for n in range(20):\n",
    "    print(x/(n+1))"
   ]
  }
 ],
 "metadata": {
  "kernelspec": {
   "display_name": "Python 3",
   "language": "python",
   "name": "python3"
  },
  "language_info": {
   "codemirror_mode": {
    "name": "ipython",
    "version": 3
   },
   "file_extension": ".py",
   "mimetype": "text/x-python",
   "name": "python",
   "nbconvert_exporter": "python",
   "pygments_lexer": "ipython3",
   "version": "3.5.1"
  }
 },
 "nbformat": 4,
 "nbformat_minor": 0
}
