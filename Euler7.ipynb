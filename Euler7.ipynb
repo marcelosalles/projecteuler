{
 "cells": [
  {
   "cell_type": "code",
   "execution_count": 25,
   "metadata": {
    "collapsed": true
   },
   "outputs": [],
   "source": [
    "def euler7(num):\n",
    "\n",
    "    index = 1\n",
    "    i = 3\n",
    "\n",
    "    while True:\n",
    "        tent = 0\n",
    "        for n in range(2, i):\n",
    "            if i/n != i//n:\n",
    "                tent += 1\n",
    "        if tent == i-2:\n",
    "            index += 1\n",
    "        \n",
    "        if index == num:\n",
    "            print(i)\n",
    "            break\n",
    "        else:\n",
    "            i += 1"
   ]
  },
  {
   "cell_type": "code",
   "execution_count": 28,
   "metadata": {
    "collapsed": false
   },
   "outputs": [
    {
     "name": "stdout",
     "output_type": "stream",
     "text": [
      "104743\n"
     ]
    }
   ],
   "source": [
    "euler7(10001)"
   ]
  }
 ],
 "metadata": {
  "kernelspec": {
   "display_name": "Python 3",
   "language": "python",
   "name": "python3"
  },
  "language_info": {
   "codemirror_mode": {
    "name": "ipython",
    "version": 3
   },
   "file_extension": ".py",
   "mimetype": "text/x-python",
   "name": "python",
   "nbconvert_exporter": "python",
   "pygments_lexer": "ipython3",
   "version": "3.5.1"
  }
 },
 "nbformat": 4,
 "nbformat_minor": 0
}
