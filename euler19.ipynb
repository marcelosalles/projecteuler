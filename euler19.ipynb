{
 "cells": [
  {
   "cell_type": "raw",
   "metadata": {},
   "source": [
    "You are given the following information, but you may prefer to do some research for yourself.\n",
    "\n",
    "1 Jan 1900 was a Monday.\n",
    "Thirty days has September,\n",
    "April, June and November.\n",
    "All the rest have thirty-one,\n",
    "Saving February alone,\n",
    "Which has twenty-eight, rain or shine.\n",
    "And on leap years, twenty-nine.\n",
    "A leap year occurs on any year evenly divisible by 4, but not on a century unless it is divisible by 400.\n",
    "How many Sundays fell on the first of the month during the twentieth century (1 Jan 1901 to 31 Dec 2000)?"
   ]
  },
  {
   "cell_type": "code",
   "execution_count": 64,
   "metadata": {
    "collapsed": false
   },
   "outputs": [
    {
     "data": {
      "text/plain": [
       "171"
      ]
     },
     "execution_count": 64,
     "metadata": {},
     "output_type": "execute_result"
    }
   ],
   "source": [
    "def euler():\n",
    "    dias = ['dom','seg','ter','qua','qui','sex','sab']\n",
    "\n",
    "    jan = 2\n",
    "    fev = 5\n",
    "    mar = 5\n",
    "    abr = 1\n",
    "    mai = 3\n",
    "    jun = 6\n",
    "    jul = 1\n",
    "    ago = 4\n",
    "    sete = 0\n",
    "    out = 2\n",
    "    nov = 5\n",
    "    dez = 0\n",
    "\n",
    "    meses = [jan, fev, mar, abr, mai, jun, jul, ago, sete, out, nov, dez]\n",
    "\n",
    "    domcont = 0\n",
    "\n",
    "    for i in range(100):\n",
    "\n",
    "        #print(meses)\n",
    "        if ((i+1) % 4) == 0:\n",
    "            #print('bisexto')\n",
    "            for mes in range(2):\n",
    "                #print(meses[mes])\n",
    "                if dias[meses[mes]%7] == 'dom':\n",
    "                    domcont += 1\n",
    "                    #print('contou antes')\n",
    "                    #print(domcont)\n",
    "            meses = [x+1 for x in meses]\n",
    "            for mes in range(2,12):\n",
    "                #print(meses[mes])\n",
    "                if dias[meses[mes]%7] == 'dom':\n",
    "                    #print('contou depois')\n",
    "                    domcont += 1\n",
    "                    #print(domcont)\n",
    "            meses = [x+1 for x in meses]\n",
    "\n",
    "        else:\n",
    "            for mes in meses:\n",
    "\n",
    "                if dias[mes%7] == 'dom':\n",
    "\n",
    "                    domcont += 1\n",
    "                    #print(domcont)\n",
    "\n",
    "            meses = [x+1 for x in meses]\n",
    "\n",
    "    return(domcont)\n",
    "\n",
    "euler()  \n",
    "    "
   ]
  }
 ],
 "metadata": {
  "kernelspec": {
   "display_name": "Python 3",
   "language": "python",
   "name": "python3"
  },
  "language_info": {
   "codemirror_mode": {
    "name": "ipython",
    "version": 3
   },
   "file_extension": ".py",
   "mimetype": "text/x-python",
   "name": "python",
   "nbconvert_exporter": "python",
   "pygments_lexer": "ipython3",
   "version": "3.5.1"
  }
 },
 "nbformat": 4,
 "nbformat_minor": 0
}
