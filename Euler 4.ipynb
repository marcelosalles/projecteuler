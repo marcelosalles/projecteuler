{
 "cells": [
  {
   "cell_type": "markdown",
   "metadata": {
    "collapsed": false
   },
   "source": [
    "# Palíndrome"
   ]
  },
  {
   "cell_type": "code",
   "execution_count": 61,
   "metadata": {
    "collapsed": false
   },
   "outputs": [
    {
     "name": "stdout",
     "output_type": "stream",
     "text": [
      "906609 (993, 913)\n"
     ]
    }
   ],
   "source": [
    "a = 999\n",
    "b = 999\n",
    "resposta = 0\n",
    "for n in range(999):\n",
    "    b = 999-n\n",
    "    for n in range(999):\n",
    "        pos = a*b\n",
    "        strpos = str(pos)\n",
    "        lenpos = len(strpos)//2\n",
    "        tes = 0\n",
    "        for o in range(lenpos):\n",
    "            i = o+1\n",
    "            if strpos[o] == strpos[-i]:\n",
    "                tes += 1\n",
    "            if tes == lenpos and pos > resposta:\n",
    "                resposta = pos\n",
    "                produtos = (a, b)\n",
    "        b -= 1\n",
    "    a -= 1\n",
    "print(resposta, produtos)"
   ]
  }
 ],
 "metadata": {
  "kernelspec": {
   "display_name": "Python 3",
   "language": "python",
   "name": "python3"
  },
  "language_info": {
   "codemirror_mode": {
    "name": "ipython",
    "version": 3
   },
   "file_extension": ".py",
   "mimetype": "text/x-python",
   "name": "python",
   "nbconvert_exporter": "python",
   "pygments_lexer": "ipython3",
   "version": "3.5.1"
  }
 },
 "nbformat": 4,
 "nbformat_minor": 0
}
