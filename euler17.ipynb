{
 "cells": [
  {
   "cell_type": "code",
   "execution_count": 62,
   "metadata": {
    "collapsed": false
   },
   "outputs": [],
   "source": [
    "def euler17(x):\n",
    "\n",
    "    dict = {\n",
    "            '00': 0,\n",
    "            '0': 0,\n",
    "            '1': 3, \n",
    "            '2': 3,\n",
    "            '3': 5,\n",
    "            '4': 4,\n",
    "            '5': 4,\n",
    "            '6': 3,\n",
    "            '7': 5,\n",
    "            '8': 5,\n",
    "            '9': 4,\n",
    "            '10': 3,\n",
    "            '11': 6,\n",
    "            '12': 6,\n",
    "            '13': 8,\n",
    "            '14': 8,\n",
    "            '15': 7,\n",
    "            '16': 7,\n",
    "            '17': 9,\n",
    "            '18': 8,\n",
    "            '19': 8,\n",
    "            '20': 6,\n",
    "            '30': 6,\n",
    "            '40': 5,\n",
    "            '50': 5,\n",
    "            '60': 5,\n",
    "            '70': 7,\n",
    "            '80': 6,\n",
    "            '90': 6,\n",
    "            '100': 7,\n",
    "            'mil': 8\n",
    "    }\n",
    "    \n",
    "    answer = 0\n",
    "\n",
    "    for i in range(x+1):\n",
    "        \n",
    "        istr = str(i)\n",
    "        ilen = len(istr)\n",
    "        \n",
    "        if ilen == 3:\n",
    "            \n",
    "            istr = '0' + istr\n",
    "                 \n",
    "        if ilen == 2:\n",
    "            \n",
    "            istr = '00' + istr\n",
    "                    \n",
    "        if ilen == 1:\n",
    "            \n",
    "            istr = '000' + istr\n",
    "         \n",
    "        if istr[0] != '0':\n",
    "            \n",
    "            dezena = dict['mil']\n",
    "            num = dict[istr[0]]\n",
    "            add = dezena + num\n",
    "            \n",
    "            answer += add\n",
    "                \n",
    "        if istr[1] != '0':\n",
    "            \n",
    "            dezena = dict['100']\n",
    "            num = dict[istr[1]]\n",
    "            add = dezena + num\n",
    "            \n",
    "            answer += add\n",
    "            \n",
    "            if istr[2:] != '00':\n",
    "                \n",
    "                answer += 3 #'and'\n",
    "            \n",
    "            \n",
    "        if istr[2:] in dict:\n",
    "\n",
    "            add = dict[istr[2:]]\n",
    "            \n",
    "            answer += add\n",
    "            \n",
    "        else:\n",
    "            \n",
    "            if dict[istr[2]] != 0:\n",
    "                dezena = istr[2] + '0'\n",
    "                add = dict[dezena] + dict[istr[3]]\n",
    "\n",
    "                answer += add\n",
    "            \n",
    "            else:\n",
    "                \n",
    "                add = dict[istr[3]]\n",
    "                \n",
    "                answer += add\n",
    "        \n",
    "    return answer"
   ]
  },
  {
   "cell_type": "code",
   "execution_count": 63,
   "metadata": {
    "collapsed": false
   },
   "outputs": [
    {
     "data": {
      "text/plain": [
       "21124"
      ]
     },
     "execution_count": 63,
     "metadata": {},
     "output_type": "execute_result"
    }
   ],
   "source": [
    "euler17(1000)"
   ]
  }
 ],
 "metadata": {
  "kernelspec": {
   "display_name": "Python 3",
   "language": "python",
   "name": "python3"
  },
  "language_info": {
   "codemirror_mode": {
    "name": "ipython",
    "version": 3
   },
   "file_extension": ".py",
   "mimetype": "text/x-python",
   "name": "python",
   "nbconvert_exporter": "python",
   "pygments_lexer": "ipython3",
   "version": "3.5.1"
  }
 },
 "nbformat": 4,
 "nbformat_minor": 0
}
